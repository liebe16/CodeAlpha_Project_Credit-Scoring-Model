{
 "cells": [
  {
   "cell_type": "code",
   "execution_count": 1,
   "id": "a0ad873e",
   "metadata": {
    "_cell_guid": "b1076dfc-b9ad-4769-8c92-a6c4dae69d19",
    "_uuid": "8f2839f25d086af736a60e9eeb907d3b93b6e0e5",
    "execution": {
     "iopub.execute_input": "2024-04-15T18:17:32.654285Z",
     "iopub.status.busy": "2024-04-15T18:17:32.653839Z",
     "iopub.status.idle": "2024-04-15T18:17:34.012761Z",
     "shell.execute_reply": "2024-04-15T18:17:34.011551Z"
    },
    "papermill": {
     "duration": 1.371432,
     "end_time": "2024-04-15T18:17:34.015794",
     "exception": false,
     "start_time": "2024-04-15T18:17:32.644362",
     "status": "completed"
    },
    "scrolled": true,
    "tags": []
   },
   "outputs": [
    {
     "name": "stdout",
     "output_type": "stream",
     "text": [
      "/kaggle/input/credit-risk-analysis-for-extending-bank-loans/bankloans.csv\n"
     ]
    }
   ],
   "source": [
    "# This Python 3 environment comes with many helpful analytics libraries installed\n",
    "# It is defined by the kaggle/python Docker image: https://github.com/kaggle/docker-python\n",
    "# For example, here's several helpful packages to load\n",
    "\n",
    "import numpy as np # linear algebra\n",
    "import pandas as pd # data processing, CSV file I/O (e.g. pd.read_csv)\n",
    "import matplotlib.pyplot as plt\n",
    "import seaborn as sns\n",
    "from sklearn.ensemble import RandomForestClassifier\n",
    "from sklearn.svm import SVC\n",
    "from sklearn.linear_model import LogisticRegression\n",
    "\n",
    "from sklearn.metrics import confusion_matrix\n",
    "from sklearn.preprocessing import StandardScaler\n",
    "from sklearn.model_selection import train_test_split,GridSearchCV,cross_val_score\n",
    "\n",
    "%matplotlib inline\n",
    "# Input data files are available in the read-only \"../input/\" directory\n",
    "# For example, running this (by clicking run or pressing Shift+Enter) will list all files under the input directory\n",
    "\n",
    "import os\n",
    "for dirname, _, filenames in os.walk('/kaggle/input'):\n",
    "    for filename in filenames:\n",
    "        print(os.path.join(dirname, filename))\n",
    "\n",
    "# You can write up to 20GB to the current directory (/kaggle/working/) that gets preserved as output when you create a version using \"Save & Run All\" \n",
    "# You can also write temporary files to /kaggle/temp/, but they won't be saved outside of the current session"
   ]
  },
  {
   "cell_type": "code",
   "execution_count": 2,
   "id": "0a14fb84",
   "metadata": {
    "execution": {
     "iopub.execute_input": "2024-04-15T18:17:34.031571Z",
     "iopub.status.busy": "2024-04-15T18:17:34.030569Z",
     "iopub.status.idle": "2024-04-15T18:17:34.064210Z",
     "shell.execute_reply": "2024-04-15T18:17:34.063073Z"
    },
    "papermill": {
     "duration": 0.044407,
     "end_time": "2024-04-15T18:17:34.066966",
     "exception": false,
     "start_time": "2024-04-15T18:17:34.022559",
     "status": "completed"
    },
    "tags": []
   },
   "outputs": [
    {
     "data": {
      "text/html": [
       "<div>\n",
       "<style scoped>\n",
       "    .dataframe tbody tr th:only-of-type {\n",
       "        vertical-align: middle;\n",
       "    }\n",
       "\n",
       "    .dataframe tbody tr th {\n",
       "        vertical-align: top;\n",
       "    }\n",
       "\n",
       "    .dataframe thead th {\n",
       "        text-align: right;\n",
       "    }\n",
       "</style>\n",
       "<table border=\"1\" class=\"dataframe\">\n",
       "  <thead>\n",
       "    <tr style=\"text-align: right;\">\n",
       "      <th></th>\n",
       "      <th>age</th>\n",
       "      <th>ed</th>\n",
       "      <th>employ</th>\n",
       "      <th>address</th>\n",
       "      <th>income</th>\n",
       "      <th>debtinc</th>\n",
       "      <th>creddebt</th>\n",
       "      <th>othdebt</th>\n",
       "      <th>default</th>\n",
       "    </tr>\n",
       "  </thead>\n",
       "  <tbody>\n",
       "    <tr>\n",
       "      <th>0</th>\n",
       "      <td>41</td>\n",
       "      <td>3</td>\n",
       "      <td>17</td>\n",
       "      <td>12</td>\n",
       "      <td>176</td>\n",
       "      <td>9.3</td>\n",
       "      <td>11.359392</td>\n",
       "      <td>5.008608</td>\n",
       "      <td>1.0</td>\n",
       "    </tr>\n",
       "    <tr>\n",
       "      <th>1</th>\n",
       "      <td>27</td>\n",
       "      <td>1</td>\n",
       "      <td>10</td>\n",
       "      <td>6</td>\n",
       "      <td>31</td>\n",
       "      <td>17.3</td>\n",
       "      <td>1.362202</td>\n",
       "      <td>4.000798</td>\n",
       "      <td>0.0</td>\n",
       "    </tr>\n",
       "    <tr>\n",
       "      <th>2</th>\n",
       "      <td>40</td>\n",
       "      <td>1</td>\n",
       "      <td>15</td>\n",
       "      <td>14</td>\n",
       "      <td>55</td>\n",
       "      <td>5.5</td>\n",
       "      <td>0.856075</td>\n",
       "      <td>2.168925</td>\n",
       "      <td>0.0</td>\n",
       "    </tr>\n",
       "    <tr>\n",
       "      <th>3</th>\n",
       "      <td>41</td>\n",
       "      <td>1</td>\n",
       "      <td>15</td>\n",
       "      <td>14</td>\n",
       "      <td>120</td>\n",
       "      <td>2.9</td>\n",
       "      <td>2.658720</td>\n",
       "      <td>0.821280</td>\n",
       "      <td>0.0</td>\n",
       "    </tr>\n",
       "    <tr>\n",
       "      <th>4</th>\n",
       "      <td>24</td>\n",
       "      <td>2</td>\n",
       "      <td>2</td>\n",
       "      <td>0</td>\n",
       "      <td>28</td>\n",
       "      <td>17.3</td>\n",
       "      <td>1.787436</td>\n",
       "      <td>3.056564</td>\n",
       "      <td>1.0</td>\n",
       "    </tr>\n",
       "  </tbody>\n",
       "</table>\n",
       "</div>"
      ],
      "text/plain": [
       "   age  ed  employ  address  income  debtinc   creddebt   othdebt  default\n",
       "0   41   3      17       12     176      9.3  11.359392  5.008608      1.0\n",
       "1   27   1      10        6      31     17.3   1.362202  4.000798      0.0\n",
       "2   40   1      15       14      55      5.5   0.856075  2.168925      0.0\n",
       "3   41   1      15       14     120      2.9   2.658720  0.821280      0.0\n",
       "4   24   2       2        0      28     17.3   1.787436  3.056564      1.0"
      ]
     },
     "execution_count": 2,
     "metadata": {},
     "output_type": "execute_result"
    }
   ],
   "source": [
    "df = pd.read_csv('../input/credit-risk-analysis-for-extending-bank-loans/bankloans.csv')\n",
    "df.head()"
   ]
  },
  {
   "cell_type": "code",
   "execution_count": 3,
   "id": "fdbb983f",
   "metadata": {
    "execution": {
     "iopub.execute_input": "2024-04-15T18:17:34.082698Z",
     "iopub.status.busy": "2024-04-15T18:17:34.081925Z",
     "iopub.status.idle": "2024-04-15T18:17:34.091243Z",
     "shell.execute_reply": "2024-04-15T18:17:34.090156Z"
    },
    "papermill": {
     "duration": 0.019867,
     "end_time": "2024-04-15T18:17:34.093811",
     "exception": false,
     "start_time": "2024-04-15T18:17:34.073944",
     "status": "completed"
    },
    "tags": []
   },
   "outputs": [
    {
     "data": {
      "text/plain": [
       "age           0\n",
       "ed            0\n",
       "employ        0\n",
       "address       0\n",
       "income        0\n",
       "debtinc       0\n",
       "creddebt      0\n",
       "othdebt       0\n",
       "default     450\n",
       "dtype: int64"
      ]
     },
     "execution_count": 3,
     "metadata": {},
     "output_type": "execute_result"
    }
   ],
   "source": [
    "df.isnull().sum()"
   ]
  },
  {
   "cell_type": "code",
   "execution_count": 4,
   "id": "9e42c473",
   "metadata": {
    "execution": {
     "iopub.execute_input": "2024-04-15T18:17:34.109717Z",
     "iopub.status.busy": "2024-04-15T18:17:34.109192Z",
     "iopub.status.idle": "2024-04-15T18:17:34.137402Z",
     "shell.execute_reply": "2024-04-15T18:17:34.136196Z"
    },
    "papermill": {
     "duration": 0.038917,
     "end_time": "2024-04-15T18:17:34.139921",
     "exception": false,
     "start_time": "2024-04-15T18:17:34.101004",
     "status": "completed"
    },
    "tags": []
   },
   "outputs": [
    {
     "data": {
      "text/plain": [
       "age  ed  employ  address  income  debtinc  creddebt  othdebt    default\n",
       "20   1   4       0        14      9.7      0.200984  1.157016   1.0        1\n",
       "39   1   10      4        31      4.8      0.184512  1.303488   0.0        1\n",
       "         0       8        39      7.9      1.066026  2.014974   0.0        1\n",
       "         2       15       22      23.1     1.915914  3.166086   1.0        1\n",
       "         4       9        38      6.5      1.178190  1.291810   0.0        1\n",
       "                                                                          ..\n",
       "30   2   8       4        56      6.4      0.333312  3.250688   0.0        1\n",
       "         10      4        22      16.1     1.409716  2.132284   0.0        1\n",
       "         12      9        68      20.1     2.856612  10.811388  0.0        1\n",
       "                          98      7.2      2.935296  4.120704   0.0        1\n",
       "56   1   11      20       59      15.0     4.672800  4.177200   0.0        1\n",
       "Length: 700, dtype: int64"
      ]
     },
     "execution_count": 4,
     "metadata": {},
     "output_type": "execute_result"
    }
   ],
   "source": [
    "df.value_counts()"
   ]
  },
  {
   "cell_type": "code",
   "execution_count": 5,
   "id": "64844af1",
   "metadata": {
    "execution": {
     "iopub.execute_input": "2024-04-15T18:17:34.158664Z",
     "iopub.status.busy": "2024-04-15T18:17:34.158017Z",
     "iopub.status.idle": "2024-04-15T18:17:34.165413Z",
     "shell.execute_reply": "2024-04-15T18:17:34.164589Z"
    },
    "papermill": {
     "duration": 0.018358,
     "end_time": "2024-04-15T18:17:34.167705",
     "exception": false,
     "start_time": "2024-04-15T18:17:34.149347",
     "status": "completed"
    },
    "tags": []
   },
   "outputs": [],
   "source": [
    "df = df.dropna()"
   ]
  },
  {
   "cell_type": "code",
   "execution_count": 6,
   "id": "5d96f2f0",
   "metadata": {
    "execution": {
     "iopub.execute_input": "2024-04-15T18:17:34.184312Z",
     "iopub.status.busy": "2024-04-15T18:17:34.183660Z",
     "iopub.status.idle": "2024-04-15T18:17:35.290789Z",
     "shell.execute_reply": "2024-04-15T18:17:35.289425Z"
    },
    "papermill": {
     "duration": 1.119216,
     "end_time": "2024-04-15T18:17:35.294097",
     "exception": false,
     "start_time": "2024-04-15T18:17:34.174881",
     "status": "completed"
    },
    "tags": []
   },
   "outputs": [
    {
     "data": {
      "text/plain": [
       "<AxesSubplot:xlabel='age', ylabel='income'>"
      ]
     },
     "execution_count": 6,
     "metadata": {},
     "output_type": "execute_result"
    },
    {
     "data": {
      "image/png": "[encoded data removed]",
      "text/plain": [
       "<Figure size 1440x720 with 1 Axes>"
      ]
     },
     "metadata": {
      "needs_background": "light"
     },
     "output_type": "display_data"
    }
   ],
   "source": [
    "fig,ax = plt.subplots(figsize=(20,10))\n",
    "sns.lineplot(x='age',y='income',data=df,ax=ax)"
   ]
  },
  {
   "cell_type": "code",
   "execution_count": 7,
   "id": "035b10e8",
   "metadata": {
    "execution": {
     "iopub.execute_input": "2024-04-15T18:17:35.313234Z",
     "iopub.status.busy": "2024-04-15T18:17:35.312429Z",
     "iopub.status.idle": "2024-04-15T18:17:36.364646Z",
     "shell.execute_reply": "2024-04-15T18:17:36.363526Z"
    },
    "papermill": {
     "duration": 1.065389,
     "end_time": "2024-04-15T18:17:36.368088",
     "exception": false,
     "start_time": "2024-04-15T18:17:35.302699",
     "status": "completed"
    },
    "tags": []
   },
   "outputs": [
    {
     "data": {
      "text/plain": [
       "<AxesSubplot:xlabel='age', ylabel='debtinc'>"
      ]
     },
     "execution_count": 7,
     "metadata": {},
     "output_type": "execute_result"
    },
    {
     "data": {
      "image/png": "[encoded data removed]",
      "text/plain": [
       "<Figure size 1440x720 with 1 Axes>"
      ]
     },
     "metadata": {
      "needs_background": "light"
     },
     "output_type": "display_data"
    }
   ],
   "source": [
    "fig,ax = plt.subplots(figsize=(20,10))\n",
    "sns.lineplot(x='age',y='debtinc',data=df,ax=ax)"
   ]
  },
  {
   "cell_type": "code",
   "execution_count": 8,
   "id": "5f66e1db",
   "metadata": {
    "execution": {
     "iopub.execute_input": "2024-04-15T18:17:36.390568Z",
     "iopub.status.busy": "2024-04-15T18:17:36.390154Z",
     "iopub.status.idle": "2024-04-15T18:17:36.400525Z",
     "shell.execute_reply": "2024-04-15T18:17:36.399503Z"
    },
    "papermill": {
     "duration": 0.023515,
     "end_time": "2024-04-15T18:17:36.402730",
     "exception": false,
     "start_time": "2024-04-15T18:17:36.379215",
     "status": "completed"
    },
    "tags": []
   },
   "outputs": [
    {
     "data": {
      "text/plain": [
       "0.0    517\n",
       "1.0    183\n",
       "Name: default, dtype: int64"
      ]
     },
     "execution_count": 8,
     "metadata": {},
     "output_type": "execute_result"
    }
   ],
   "source": [
    "df['default'].value_counts()"
   ]
  },
  {
   "cell_type": "code",
   "execution_count": 9,
   "id": "9145bf1b",
   "metadata": {
    "execution": {
     "iopub.execute_input": "2024-04-15T18:17:36.424032Z",
     "iopub.status.busy": "2024-04-15T18:17:36.423636Z",
     "iopub.status.idle": "2024-04-15T18:17:36.429648Z",
     "shell.execute_reply": "2024-04-15T18:17:36.428518Z"
    },
    "papermill": {
     "duration": 0.019157,
     "end_time": "2024-04-15T18:17:36.431779",
     "exception": false,
     "start_time": "2024-04-15T18:17:36.412622",
     "status": "completed"
    },
    "tags": []
   },
   "outputs": [],
   "source": [
    "x=df.drop(['default'],axis=1)\n",
    "y=df['default']"
   ]
  },
  {
   "cell_type": "code",
   "execution_count": 10,
   "id": "bbd1c33b",
   "metadata": {
    "execution": {
     "iopub.execute_input": "2024-04-15T18:17:36.453026Z",
     "iopub.status.busy": "2024-04-15T18:17:36.452084Z",
     "iopub.status.idle": "2024-04-15T18:17:36.458246Z",
     "shell.execute_reply": "2024-04-15T18:17:36.457502Z"
    },
    "papermill": {
     "duration": 0.018927,
     "end_time": "2024-04-15T18:17:36.460326",
     "exception": false,
     "start_time": "2024-04-15T18:17:36.441399",
     "status": "completed"
    },
    "tags": []
   },
   "outputs": [],
   "source": [
    "xtrain,xtest,ytrain,ytest = train_test_split(x,y,test_size=0.2,random_state=42)"
   ]
  },
  {
   "cell_type": "code",
   "execution_count": 11,
   "id": "bffd36c3",
   "metadata": {
    "execution": {
     "iopub.execute_input": "2024-04-15T18:17:36.481330Z",
     "iopub.status.busy": "2024-04-15T18:17:36.480907Z",
     "iopub.status.idle": "2024-04-15T18:17:36.493972Z",
     "shell.execute_reply": "2024-04-15T18:17:36.492833Z"
    },
    "papermill": {
     "duration": 0.026164,
     "end_time": "2024-04-15T18:17:36.496300",
     "exception": false,
     "start_time": "2024-04-15T18:17:36.470136",
     "status": "completed"
    },
    "tags": []
   },
   "outputs": [],
   "source": [
    "sc = StandardScaler()\n",
    "xtrain=sc.fit_transform(xtrain)\n",
    "xtest=sc.fit_transform(xtest)"
   ]
  },
  {
   "cell_type": "markdown",
   "id": "b8353d8c",
   "metadata": {
    "papermill": {
     "duration": 0.009393,
     "end_time": "2024-04-15T18:17:36.515565",
     "exception": false,
     "start_time": "2024-04-15T18:17:36.506172",
     "status": "completed"
    },
    "tags": []
   },
   "source": [
    "# **Creating Model**"
   ]
  },
  {
   "cell_type": "markdown",
   "id": "380d9d43",
   "metadata": {
    "papermill": {
     "duration": 0.009391,
     "end_time": "2024-04-15T18:17:36.534698",
     "exception": false,
     "start_time": "2024-04-15T18:17:36.525307",
     "status": "completed"
    },
    "tags": []
   },
   "source": [
    "Random Forest"
   ]
  },
  {
   "cell_type": "code",
   "execution_count": 12,
   "id": "6843dfef",
   "metadata": {
    "execution": {
     "iopub.execute_input": "2024-04-15T18:17:36.555813Z",
     "iopub.status.busy": "2024-04-15T18:17:36.555363Z",
     "iopub.status.idle": "2024-04-15T18:17:36.560632Z",
     "shell.execute_reply": "2024-04-15T18:17:36.559541Z"
    },
    "papermill": {
     "duration": 0.018557,
     "end_time": "2024-04-15T18:17:36.562878",
     "exception": false,
     "start_time": "2024-04-15T18:17:36.544321",
     "status": "completed"
    },
    "tags": []
   },
   "outputs": [],
   "source": [
    "rfc = RandomForestClassifier(n_estimators=200)"
   ]
  },
  {
   "cell_type": "code",
   "execution_count": 13,
   "id": "145da905",
   "metadata": {
    "execution": {
     "iopub.execute_input": "2024-04-15T18:17:36.584202Z",
     "iopub.status.busy": "2024-04-15T18:17:36.583440Z",
     "iopub.status.idle": "2024-04-15T18:17:36.977063Z",
     "shell.execute_reply": "2024-04-15T18:17:36.975906Z"
    },
    "papermill": {
     "duration": 0.406775,
     "end_time": "2024-04-15T18:17:36.979369",
     "exception": false,
     "start_time": "2024-04-15T18:17:36.572594",
     "status": "completed"
    },
    "tags": []
   },
   "outputs": [
    {
     "data": {
      "text/plain": [
       "RandomForestClassifier(n_estimators=200)"
      ]
     },
     "execution_count": 13,
     "metadata": {},
     "output_type": "execute_result"
    }
   ],
   "source": [
    "rfc.fit(xtrain,ytrain)"
   ]
  },
  {
   "cell_type": "code",
   "execution_count": 14,
   "id": "c770122d",
   "metadata": {
    "execution": {
     "iopub.execute_input": "2024-04-15T18:17:37.001355Z",
     "iopub.status.busy": "2024-04-15T18:17:37.000376Z",
     "iopub.status.idle": "2024-04-15T18:17:37.036185Z",
     "shell.execute_reply": "2024-04-15T18:17:37.034936Z"
    },
    "papermill": {
     "duration": 0.049378,
     "end_time": "2024-04-15T18:17:37.038618",
     "exception": false,
     "start_time": "2024-04-15T18:17:36.989240",
     "status": "completed"
    },
    "tags": []
   },
   "outputs": [
    {
     "data": {
      "text/plain": [
       "0.8071428571428572"
      ]
     },
     "execution_count": 14,
     "metadata": {},
     "output_type": "execute_result"
    }
   ],
   "source": [
    "rfc.score(xtest,ytest)"
   ]
  },
  {
   "cell_type": "code",
   "execution_count": 15,
   "id": "8ea8c971",
   "metadata": {
    "execution": {
     "iopub.execute_input": "2024-04-15T18:17:37.061187Z",
     "iopub.status.busy": "2024-04-15T18:17:37.060061Z",
     "iopub.status.idle": "2024-04-15T18:17:40.906984Z",
     "shell.execute_reply": "2024-04-15T18:17:40.905787Z"
    },
    "papermill": {
     "duration": 3.860911,
     "end_time": "2024-04-15T18:17:40.909617",
     "exception": false,
     "start_time": "2024-04-15T18:17:37.048706",
     "status": "completed"
    },
    "tags": []
   },
   "outputs": [
    {
     "data": {
      "text/plain": [
       "0.7964285714285715"
      ]
     },
     "execution_count": 15,
     "metadata": {},
     "output_type": "execute_result"
    }
   ],
   "source": [
    "rfc2 = cross_val_score(estimator=rfc,X=xtrain,y=ytrain,cv=10)\n",
    "rfc2.mean()"
   ]
  },
  {
   "cell_type": "markdown",
   "id": "222296fa",
   "metadata": {
    "papermill": {
     "duration": 0.010068,
     "end_time": "2024-04-15T18:17:40.929949",
     "exception": false,
     "start_time": "2024-04-15T18:17:40.919881",
     "status": "completed"
    },
    "tags": []
   },
   "source": [
    "SVM"
   ]
  },
  {
   "cell_type": "code",
   "execution_count": 16,
   "id": "6ea83407",
   "metadata": {
    "execution": {
     "iopub.execute_input": "2024-04-15T18:17:40.952373Z",
     "iopub.status.busy": "2024-04-15T18:17:40.951576Z",
     "iopub.status.idle": "2024-04-15T18:17:40.970365Z",
     "shell.execute_reply": "2024-04-15T18:17:40.969358Z"
    },
    "papermill": {
     "duration": 0.032714,
     "end_time": "2024-04-15T18:17:40.972809",
     "exception": false,
     "start_time": "2024-04-15T18:17:40.940095",
     "status": "completed"
    },
    "tags": []
   },
   "outputs": [
    {
     "data": {
      "text/plain": [
       "SVC()"
      ]
     },
     "execution_count": 16,
     "metadata": {},
     "output_type": "execute_result"
    }
   ],
   "source": [
    "sv = SVC()\n",
    "sv.fit(xtrain,ytrain)"
   ]
  },
  {
   "cell_type": "code",
   "execution_count": 17,
   "id": "034922a8",
   "metadata": {
    "execution": {
     "iopub.execute_input": "2024-04-15T18:17:40.995343Z",
     "iopub.status.busy": "2024-04-15T18:17:40.994402Z",
     "iopub.status.idle": "2024-04-15T18:17:41.003933Z",
     "shell.execute_reply": "2024-04-15T18:17:41.003062Z"
    },
    "papermill": {
     "duration": 0.022949,
     "end_time": "2024-04-15T18:17:41.005953",
     "exception": false,
     "start_time": "2024-04-15T18:17:40.983004",
     "status": "completed"
    },
    "tags": []
   },
   "outputs": [
    {
     "data": {
      "text/plain": [
       "0.7928571428571428"
      ]
     },
     "execution_count": 17,
     "metadata": {},
     "output_type": "execute_result"
    }
   ],
   "source": [
    "sv.score(xtest,ytest)"
   ]
  },
  {
   "cell_type": "code",
   "execution_count": 18,
   "id": "62c605b5",
   "metadata": {
    "execution": {
     "iopub.execute_input": "2024-04-15T18:17:41.031004Z",
     "iopub.status.busy": "2024-04-15T18:17:41.030274Z",
     "iopub.status.idle": "2024-04-15T18:17:41.035366Z",
     "shell.execute_reply": "2024-04-15T18:17:41.034644Z"
    },
    "papermill": {
     "duration": 0.018991,
     "end_time": "2024-04-15T18:17:41.037387",
     "exception": false,
     "start_time": "2024-04-15T18:17:41.018396",
     "status": "completed"
    },
    "tags": []
   },
   "outputs": [],
   "source": [
    "model = GridSearchCV(sv,{\n",
    "    'C':[0.1,0.2,0.4,0.8,1.2,1.8,4.0,7.0],\n",
    "    'gamma':[0.1,0.4,0.8,1.0,2.0,3.0],\n",
    "    'kernel':['rbf','linear']\n",
    "},scoring='accuracy',cv=10)"
   ]
  },
  {
   "cell_type": "code",
   "execution_count": 19,
   "id": "448ca4e2",
   "metadata": {
    "execution": {
     "iopub.execute_input": "2024-04-15T18:17:41.059702Z",
     "iopub.status.busy": "2024-04-15T18:17:41.059273Z",
     "iopub.status.idle": "2024-04-15T18:17:54.297856Z",
     "shell.execute_reply": "2024-04-15T18:17:54.296792Z"
    },
    "papermill": {
     "duration": 13.252974,
     "end_time": "2024-04-15T18:17:54.300602",
     "exception": false,
     "start_time": "2024-04-15T18:17:41.047628",
     "status": "completed"
    },
    "tags": []
   },
   "outputs": [
    {
     "data": {
      "text/plain": [
       "GridSearchCV(cv=10, estimator=SVC(),\n",
       "             param_grid={'C': [0.1, 0.2, 0.4, 0.8, 1.2, 1.8, 4.0, 7.0],\n",
       "                         'gamma': [0.1, 0.4, 0.8, 1.0, 2.0, 3.0],\n",
       "                         'kernel': ['rbf', 'linear']},\n",
       "             scoring='accuracy')"
      ]
     },
     "execution_count": 19,
     "metadata": {},
     "output_type": "execute_result"
    }
   ],
   "source": [
    "model.fit(xtrain,ytrain)"
   ]
  },
  {
   "cell_type": "code",
   "execution_count": 20,
   "id": "906117aa",
   "metadata": {
    "execution": {
     "iopub.execute_input": "2024-04-15T18:17:54.323933Z",
     "iopub.status.busy": "2024-04-15T18:17:54.323420Z",
     "iopub.status.idle": "2024-04-15T18:17:54.330840Z",
     "shell.execute_reply": "2024-04-15T18:17:54.329637Z"
    },
    "papermill": {
     "duration": 0.021789,
     "end_time": "2024-04-15T18:17:54.333301",
     "exception": false,
     "start_time": "2024-04-15T18:17:54.311512",
     "status": "completed"
    },
    "tags": []
   },
   "outputs": [
    {
     "data": {
      "text/plain": [
       "{'C': 0.1, 'gamma': 0.1, 'kernel': 'linear'}"
      ]
     },
     "execution_count": 20,
     "metadata": {},
     "output_type": "execute_result"
    }
   ],
   "source": [
    "model.best_params_"
   ]
  },
  {
   "cell_type": "code",
   "execution_count": 21,
   "id": "4207fece",
   "metadata": {
    "execution": {
     "iopub.execute_input": "2024-04-15T18:17:54.356792Z",
     "iopub.status.busy": "2024-04-15T18:17:54.356345Z",
     "iopub.status.idle": "2024-04-15T18:17:54.374797Z",
     "shell.execute_reply": "2024-04-15T18:17:54.373682Z"
    },
    "papermill": {
     "duration": 0.033301,
     "end_time": "2024-04-15T18:17:54.377318",
     "exception": false,
     "start_time": "2024-04-15T18:17:54.344017",
     "status": "completed"
    },
    "tags": []
   },
   "outputs": [
    {
     "data": {
      "text/plain": [
       "0.8214285714285714"
      ]
     },
     "execution_count": 21,
     "metadata": {},
     "output_type": "execute_result"
    }
   ],
   "source": [
    "model2 = SVC(C=0.1,gamma=0.1,kernel='linear')\n",
    "model2.fit(xtrain,ytrain)\n",
    "model2.score(xtest,ytest)"
   ]
  },
  {
   "cell_type": "code",
   "execution_count": 22,
   "id": "de7139ca",
   "metadata": {
    "execution": {
     "iopub.execute_input": "2024-04-15T18:17:54.401301Z",
     "iopub.status.busy": "2024-04-15T18:17:54.400897Z",
     "iopub.status.idle": "2024-04-15T18:17:54.418563Z",
     "shell.execute_reply": "2024-04-15T18:17:54.417736Z"
    },
    "papermill": {
     "duration": 0.032141,
     "end_time": "2024-04-15T18:17:54.420720",
     "exception": false,
     "start_time": "2024-04-15T18:17:54.388579",
     "status": "completed"
    },
    "tags": []
   },
   "outputs": [
    {
     "data": {
      "text/plain": [
       "0.8357142857142857"
      ]
     },
     "execution_count": 22,
     "metadata": {},
     "output_type": "execute_result"
    }
   ],
   "source": [
    "lr = LogisticRegression()\n",
    "lr.fit(xtrain,ytrain)\n",
    "lr.score(xtest,ytest)"
   ]
  },
  {
   "cell_type": "code",
   "execution_count": 23,
   "id": "f827a4a3",
   "metadata": {
    "execution": {
     "iopub.execute_input": "2024-04-15T18:17:54.445211Z",
     "iopub.status.busy": "2024-04-15T18:17:54.444418Z",
     "iopub.status.idle": "2024-04-15T18:17:54.710007Z",
     "shell.execute_reply": "2024-04-15T18:17:54.709146Z"
    },
    "papermill": {
     "duration": 0.279826,
     "end_time": "2024-04-15T18:17:54.712127",
     "exception": false,
     "start_time": "2024-04-15T18:17:54.432301",
     "status": "completed"
    },
    "tags": []
   },
   "outputs": [
    {
     "data": {
      "text/plain": [
       "<AxesSubplot:>"
      ]
     },
     "execution_count": 23,
     "metadata": {},
     "output_type": "execute_result"
    },
    {
     "data": {
      "image/png": "[encoded data removed]",
      "text/plain": [
       "<Figure size 1440x720 with 2 Axes>"
      ]
     },
     "metadata": {
      "needs_background": "light"
     },
     "output_type": "display_data"
    }
   ],
   "source": [
    "yp = lr.predict(xtest)\n",
    "c= confusion_matrix(ytest,yp)\n",
    "fig ,ax = plt.subplots(figsize=(20,10))\n",
    "sns.heatmap(c,ax=ax)"
   ]
  }
 ],
 "metadata": {
  "kaggle": {
   "accelerator": "nvidiaTeslaT4",
   "dataSources": [
    {
     "datasetId": 1129608,
     "sourceId": 1895696,
     "sourceType": "datasetVersion"
    }
   ],
   "dockerImageVersionId": 30301,
   "isGpuEnabled": true,
   "isInternetEnabled": false,
   "language": "python",
   "sourceType": "notebook"
  },
  "kernelspec": {
   "display_name": "Python 3",
   "language": "python",
   "name": "python3"
  },
  "language_info": {
   "codemirror_mode": {
    "name": "ipython",
    "version": 3
   },
   "file_extension": ".py",
   "mimetype": "text/x-python",
   "name": "python",
   "nbconvert_exporter": "python",
   "pygments_lexer": "ipython3",
   "version": "3.7.12"
  },
  "papermill": {
   "default_parameters": {},
   "duration": 32.012813,
   "end_time": "2024-04-15T18:17:55.444670",
   "environment_variables": {},
   "exception": null,
   "input_path": "__notebook__.ipynb",
   "output_path": "__notebook__.ipynb",
   "parameters": {},
   "start_time": "2024-04-15T18:17:23.431857",
   "version": "2.3.4"
  }
 },
 "nbformat": 4,
 "nbformat_minor": 5
}
